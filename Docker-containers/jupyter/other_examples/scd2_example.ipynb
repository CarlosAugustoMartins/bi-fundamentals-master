{
 "cells": [
  {
   "cell_type": "code",
   "execution_count": 3,
   "metadata": {},
   "outputs": [],
   "source": [
    "from pyspark.sql import SparkSession\n",
    "#Include jar to avoid error: java.sql.SQLException: No suitable driver\n",
    "import os\n",
    "os.environ['PYSPARK_SUBMIT_ARGS'] = '--jars file:////home/jovyan/work/postgresql-42.2.14.jar pyspark-shell'"
   ]
  },
  {
   "cell_type": "code",
   "execution_count": null,
   "metadata": {},
   "outputs": [],
   "source": [
    "\n",
    "spark = SparkSession.builder.appName(\"scd2_demo\").getOrCreate()"
   ]
  },
  {
   "cell_type": "code",
   "execution_count": 4,
   "metadata": {},
   "outputs": [],
   "source": [
    "#Create SparkSession\n",
    "spark = SparkSession\\\n",
    "        .builder\\\n",
    "        .appName(\"scd2_demo\") \\\n",
    "        .getOrCreate()"
   ]
  },
  {
   "cell_type": "code",
   "execution_count": 5,
   "metadata": {},
   "outputs": [],
   "source": [
    "# create properties\n",
    "properties={\"user\": \"postgres\", \"password\": \"postgres\", \"driver\":\"org.apostgresql.Driver\"}\n",
    "#properties={\"user\": \"postgres\", \"password\": \"postgres\", \"driver\":\"org.apostgresql.Driver\"}\n",
    "url_source = 'jdbc:postgresql://source-db-container:5432/dvdrental'\n",
    "url_target = 'jdbc:postgresql://dest-db-container:5432/dvdrental_staging'\n",
    "url_dwh_target = 'jdbc:postgresql://dest-db-container:5432/dvdrental_dwh'"
   ]
  },
  {
   "cell_type": "code",
   "execution_count": 6,
   "metadata": {},
   "outputs": [
    {
     "name": "stdout",
     "output_type": "stream",
     "text": [
      "+----------------+----------+---------+--------------+------------------+------------+-----+----------+---------------+--------------+------------+----------+\n",
      "|customer_dim_key|first_name|last_name|middle_initial|address           |city        |state|zip_code  |customer_number|eff_start_date|eff_end_date|is_current|\n",
      "+----------------+----------+---------+--------------+------------------+------------+-----+----------+---------------+--------------+------------+----------+\n",
      "|1               |John      |Smith    |G             |123 Main Street   |Springville |VT   |01234-5678|289374         |2014-01-01    |9999-12-31  |true      |\n",
      "|4               |William   |Chase    |X             |57895 Sharp Way   |Oldtown     |CA   |98554-1285|31568          |2018-12-07    |9999-12-31  |true      |\n",
      "|2               |Susan     |Jones    |L             |987 Central Avenue|Central City|MO   |49257-2657|862447         |2015-03-23    |2018-11-17  |false     |\n",
      "|3               |Susan     |Harris   |L             |987 Central Avenue|Central City|MO   |49257-2657|862447         |2018-11-18    |9999-12-31  |true      |\n",
      "+----------------+----------+---------+--------------+------------------+------------+-----+----------+---------------+--------------+------------+----------+\n",
      "\n"
     ]
    }
   ],
   "source": [
    "# ############## generate current_scd2 dataset ############## #\n",
    "hd_current_scd2 = \"\"\"\n",
    " SELECT   BIGINT(1) AS customer_dim_key,\n",
    "          STRING('John') AS first_name,\n",
    "          STRING('Smith') AS last_name,\n",
    "          STRING('G') AS middle_initial,\n",
    "          STRING('123 Main Street') AS address,\n",
    "          STRING('Springville') AS city,\n",
    "          STRING('VT') AS state,\n",
    "          STRING('01234-5678') AS zip_code,\n",
    "          BIGINT(289374) AS customer_number,\n",
    "          DATE('2014-01-01') AS eff_start_date,\n",
    "          DATE('9999-12-31') AS eff_end_date,\n",
    "          BOOLEAN(1) AS is_current\n",
    " UNION\n",
    " SELECT   BIGINT(2) AS customer_dim_key,\n",
    "          STRING('Susan') AS first_name,\n",
    "          STRING('Jones') AS last_name,\n",
    "          STRING('L') AS middle_initial,\n",
    "          STRING('987 Central Avenue') AS address,\n",
    "          STRING('Central City') AS city,\n",
    "          STRING('MO') AS state,\n",
    "          STRING('49257-2657') AS zip_code,\n",
    "          BIGINT(862447) AS customer_number,\n",
    "          DATE('2015-03-23') AS eff_start_date,\n",
    "          DATE('2018-11-17') AS eff_end_date,\n",
    "          BOOLEAN(0) AS is_current\n",
    " UNION\n",
    " SELECT   BIGINT(3) AS customer_dim_key,\n",
    "          STRING('Susan') AS first_name,\n",
    "          STRING('Harris') AS last_name,\n",
    "          STRING('L') AS middle_initial,\n",
    "          STRING('987 Central Avenue') AS address,\n",
    "          STRING('Central City') AS city,\n",
    "          STRING('MO') AS state,\n",
    "          STRING('49257-2657') AS zip_code,\n",
    "          BIGINT(862447) AS customer_number,\n",
    "          DATE('2018-11-18') AS eff_start_date,\n",
    "          DATE('9999-12-31') AS eff_end_date,\n",
    "          BOOLEAN(1) AS is_current\n",
    " UNION\n",
    " SELECT   BIGINT(4) AS customer_dim_key,\n",
    "          STRING('William') AS first_name,\n",
    "          STRING('Chase') AS last_name,\n",
    "          STRING('X') AS middle_initial,\n",
    "          STRING('57895 Sharp Way') AS address,\n",
    "          STRING('Oldtown') AS city,\n",
    "          STRING('CA') AS state,\n",
    "          STRING('98554-1285') AS zip_code,\n",
    "          BIGINT(31568) AS customer_number,\n",
    "          DATE('2018-12-07') AS eff_start_date,\n",
    "          DATE('9999-12-31') AS eff_end_date,\n",
    "          BOOLEAN(1) AS is_current\n",
    "\"\"\"\n",
    "df_current_scd2 = spark.sql(hd_current_scd2)\n",
    "#df_current_scd2.write.mode('overwrite').jdbc(url=url_target, table=\"public.current_scd2\",properties=properties)\n",
    "df_current_scd2.createOrReplaceTempView(\"current_scd2\")\n",
    "# ############## review dataset ############## #\n",
    "df_current_scd2.orderBy(\"customer_dim_key\")\n",
    "df_current_scd2.show(10, False)"
   ]
  },
  {
   "cell_type": "code",
   "execution_count": 7,
   "metadata": {},
   "outputs": [
    {
     "name": "stdout",
     "output_type": "stream",
     "text": [
      "+---------------+----------+---------+--------------+------------------+------------+-----+----------+\n",
      "|customer_number|first_name|last_name|middle_initial|address           |city        |state|zip_code  |\n",
      "+---------------+----------+---------+--------------+------------------+------------+-----+----------+\n",
      "|932574         |Lisa      |Cohen    |S             |69846 Mason Road  |Atlanta     |GA   |26584-3591|\n",
      "|31568          |William   |Chase    |X             |57895 Sharp Way   |Oldtown     |CA   |98554-1285|\n",
      "|862447         |Susan     |Harris   |L             |987 Central Avenue|Central City|MO   |49257-2657|\n",
      "|289374         |John      |Smith    |G             |456 Derry Court   |Springville |VT   |01234-5678|\n",
      "+---------------+----------+---------+--------------+------------------+------------+-----+----------+\n",
      "\n"
     ]
    }
   ],
   "source": [
    "# ############## generate customer_data dataset ############## #\n",
    "hd_customer_data = \"\"\"\n",
    " SELECT   BIGINT(289374) AS customer_number,\n",
    "          STRING('John') AS first_name,\n",
    "          STRING('Smith') AS last_name,\n",
    "          STRING('G') AS middle_initial,\n",
    "          STRING('456 Derry Court') AS address,\n",
    "          STRING('Springville') AS city,\n",
    "          STRING('VT') AS state,\n",
    "          STRING('01234-5678') AS zip_code\n",
    " UNION\n",
    " SELECT   BIGINT(932574) AS customer_number,\n",
    "          STRING('Lisa') AS first_name,\n",
    "          STRING('Cohen') AS last_name,\n",
    "          STRING('S') AS middle_initial,\n",
    "          STRING('69846 Mason Road') AS address,\n",
    "          STRING('Atlanta') AS city,\n",
    "          STRING('GA') AS state,\n",
    "          STRING('26584-3591') AS zip_code\n",
    " UNION\n",
    " SELECT   BIGINT(862447) AS customer_number,\n",
    "          STRING('Susan') AS first_name,\n",
    "          STRING('Harris') AS last_name,\n",
    "          STRING('L') AS middle_initial,\n",
    "          STRING('987 Central Avenue') AS address,\n",
    "          STRING('Central City') AS city,\n",
    "          STRING('MO') AS state,\n",
    "          STRING('49257-2657') AS zip_code\n",
    " UNION\n",
    " SELECT   BIGINT(31568) AS customer_number,\n",
    "          STRING('William') AS first_name,\n",
    "          STRING('Chase') AS last_name,\n",
    "          STRING('X') AS middle_initial,\n",
    "          STRING('57895 Sharp Way') AS address,\n",
    "          STRING('Oldtown') AS city,\n",
    "          STRING('CA') AS state,\n",
    "          STRING('98554-1285') AS zip_code\n",
    "\"\"\"\n",
    "df_customer_data= spark.sql(hd_customer_data)\n",
    "#df_customer_data.coalesce(1).write.mode(\"overwrite\").parquet(v_s3_path + \"/customer_data/\")\n",
    "df_customer_data.createOrReplaceTempView(\"customer_data\")\n",
    "# ############## review dataset ############## \n",
    "#df_customer_data= spark.read.parquet(v_s3_path + \"/customer_data/*\").orderBy(\"customer_number\")\n",
    "df_customer_data.show(10, False)"
   ]
  },
  {
   "cell_type": "code",
   "execution_count": 26,
   "metadata": {},
   "outputs": [
    {
     "name": "stdout",
     "output_type": "stream",
     "text": [
      "+----------------+---------------+----------+---------+--------------+---------------+-----------+-----+----------+--------------+------------+----------+\n",
      "|customer_dim_key|customer_number|first_name|last_name|middle_initial|address        |city       |state|zip_code  |eff_start_date|eff_end_date|is_current|\n",
      "+----------------+---------------+----------+---------+--------------+---------------+-----------+-----+----------+--------------+------------+----------+\n",
      "|1               |289374         |John      |Smith    |G             |456 Derry Court|Springville|VT   |01234-5678|2020-08-25    |9999-12-31  |true      |\n",
      "+----------------+---------------+----------+---------+--------------+---------------+-----------+-----+----------+--------------+------------+----------+\n",
      "\n"
     ]
    }
   ],
   "source": [
    "# ############## create new current recs dataaset ############## #\n",
    "hd_new_curr_recs = \"\"\"\n",
    " SELECT   t.customer_dim_key,\n",
    "          s.customer_number,\n",
    "          s.first_name,\n",
    "          s.last_name,\n",
    "          s.middle_initial,\n",
    "          s.address,\n",
    "          s.city,\n",
    "          s.state,\n",
    "          s.zip_code,\n",
    "          DATE(FROM_UTC_TIMESTAMP(CURRENT_TIMESTAMP, 'EST'))\n",
    "              AS eff_start_date,\n",
    "          DATE('9999-12-31') AS eff_end_date,\n",
    "          BOOLEAN(1) AS is_current\n",
    " FROM     customer_data s\n",
    "          INNER JOIN current_scd2 t\n",
    "              ON t.customer_number = s.customer_number\n",
    "              AND t.is_current = True\n",
    " WHERE    NVL(s.first_name, '') <> NVL(t.first_name, '')\n",
    "          OR NVL(s.last_name, '') <> NVL(t.last_name, '')\n",
    "          OR NVL(s.middle_initial, '') <> NVL(t.middle_initial, '')\n",
    "          OR NVL(s.address, '') <> NVL(t.address, '')\n",
    "          OR NVL(s.city, '') <> NVL(t.city, '')\n",
    "          OR NVL(s.state, '') <> NVL(t.state, '')\n",
    "          OR NVL(s.zip_code, '') <> NVL(t.zip_code, '')\n",
    "\"\"\"\n",
    "df_new_curr_recs = spark.sql(hd_new_curr_recs)\n",
    "#df_new_curr_recs.coalesce(1).write.mode(\"overwrite\").parquet(v_s3_path + \"/new_curr_recs/\")\n",
    "df_new_curr_recs.createOrReplaceTempView(\"new_curr_recs\")\n",
    "# ############## review dataset ############## #\n",
    "#df_new_curr_recs = spark.read.parquet(v_s3_path + \"/new_curr_recs/*\").orderBy(\"customer_number\")\n",
    "df_new_curr_recs.show(10, False)\n",
    "#spark.sql(\"SELECT* FROM new_curr_recs\").show()"
   ]
  },
  {
   "cell_type": "code",
   "execution_count": 15,
   "metadata": {},
   "outputs": [
    {
     "name": "stdout",
     "output_type": "stream",
     "text": [
      "+----------------+\n",
      "|customer_dim_key|\n",
      "+----------------+\n",
      "|               1|\n",
      "+----------------+\n",
      "\n"
     ]
    }
   ],
   "source": [
    "# ########### isolate keys of records to be modified ########### #\n",
    "df_modfied_keys = df_new_curr_recs.select(\"customer_dim_key\")\n",
    "#df_modfied_keys.coalesce(1).write.mode(\"overwrite\").parquet(v_s3_path + \"/modfied_keys/\")\n",
    "df_modfied_keys.createOrReplaceTempView(\"modfied_keys\")\n",
    "df_modfied_keys.show()"
   ]
  },
  {
   "cell_type": "code",
   "execution_count": 16,
   "metadata": {},
   "outputs": [
    {
     "name": "stdout",
     "output_type": "stream",
     "text": [
      "+----------------+---------------+----------+---------+--------------+---------------+-----------+-----+----------+--------------+------------+----------+\n",
      "|customer_dim_key|customer_number|first_name|last_name|middle_initial|address        |city       |state|zip_code  |eff_start_date|eff_end_date|is_current|\n",
      "+----------------+---------------+----------+---------+--------------+---------------+-----------+-----+----------+--------------+------------+----------+\n",
      "|1               |289374         |John      |Smith    |G             |123 Main Street|Springville|VT   |01234-5678|2014-01-01    |2020-08-23  |false     |\n",
      "+----------------+---------------+----------+---------+--------------+---------------+-----------+-----+----------+--------------+------------+----------+\n",
      "\n"
     ]
    }
   ],
   "source": [
    "# ############## create new hist recs dataaset ############## #\n",
    "hd_new_hist_recs = \"\"\"\n",
    " SELECT   t.customer_dim_key,\n",
    "          t.customer_number,\n",
    "          t.first_name,\n",
    "          t.last_name,\n",
    "          t.middle_initial,\n",
    "          t.address,\n",
    "          t.city,\n",
    "          t.state,\n",
    "          t.zip_code,\n",
    "          t.eff_start_date,\n",
    "          DATE_SUB(\n",
    "              DATE(FROM_UTC_TIMESTAMP(CURRENT_TIMESTAMP, 'EST')), 1\n",
    "          ) AS eff_end_date,\n",
    "          BOOLEAN(0) AS is_current\n",
    " FROM     current_scd2 t\n",
    "          INNER JOIN modfied_keys k\n",
    "              ON k.customer_dim_key = t.customer_dim_key\n",
    " WHERE    t.is_current = True\n",
    "\"\"\"\n",
    "df_new_hist_recs = spark.sql(hd_new_hist_recs)\n",
    "#df_new_hist_recs.coalesce(1).write.mode(\"overwrite\").parquet(v_s3_path + \"/new_hist_recs/\")\n",
    "df_new_hist_recs.createOrReplaceTempView(\"new_hist_recs\")\n",
    "# ############## review dataset ############## #\n",
    "#df_new_hist_recs = spark.read.parquet(v_s3_path + \"/new_hist_recs/*\").orderBy(\"customer_number\")\n",
    "df_new_hist_recs.show(10, False)"
   ]
  },
  {
   "cell_type": "code",
   "execution_count": 18,
   "metadata": {},
   "outputs": [
    {
     "name": "stdout",
     "output_type": "stream",
     "text": [
      "+----------------+---------------+----------+---------+--------------+------------------+------------+-----+----------+--------------+------------+----------+\n",
      "|customer_dim_key|customer_number|first_name|last_name|middle_initial|address           |city        |state|zip_code  |eff_start_date|eff_end_date|is_current|\n",
      "+----------------+---------------+----------+---------+--------------+------------------+------------+-----+----------+--------------+------------+----------+\n",
      "|4               |31568          |William   |Chase    |X             |57895 Sharp Way   |Oldtown     |CA   |98554-1285|2018-12-07    |9999-12-31  |true      |\n",
      "|2               |862447         |Susan     |Jones    |L             |987 Central Avenue|Central City|MO   |49257-2657|2015-03-23    |2018-11-17  |false     |\n",
      "|3               |862447         |Susan     |Harris   |L             |987 Central Avenue|Central City|MO   |49257-2657|2018-11-18    |9999-12-31  |true      |\n",
      "+----------------+---------------+----------+---------+--------------+------------------+------------+-----+----------+--------------+------------+----------+\n",
      "\n"
     ]
    }
   ],
   "source": [
    "# ############## create unaffected recs dataset ############## #\n",
    "hd_unaffected_recs = \"\"\"\n",
    " SELECT   s.customer_dim_key,\n",
    "          s.customer_number,\n",
    "          s.first_name,\n",
    "          s.last_name,\n",
    "          s.middle_initial,\n",
    "          s.address,\n",
    "          s.city,\n",
    "          s.state,\n",
    "          s.zip_code,\n",
    "          s.eff_start_date,\n",
    "          s.eff_end_date,\n",
    "          s.is_current\n",
    " FROM     current_scd2 s\n",
    "          LEFT OUTER JOIN modfied_keys k\n",
    "              ON k.customer_dim_key = s.customer_dim_key\n",
    " WHERE    k.customer_dim_key IS NULL\n",
    "\"\"\"\n",
    "df_unaffected_recs = spark.sql(hd_unaffected_recs)\n",
    "#df_unaffected_recs.coalesce(1).write.mode(\"overwrite\").parquet(v_s3_path + \"/unaffected_recs/\")\n",
    "df_unaffected_recs.createOrReplaceTempView(\"unaffected_recs\")\n",
    "# ############## review dataset ############## #\n",
    "#df_unaffected_recs = spark.read.parquet(v_s3_path + \"/unaffected_recs/*\").oorderBy(\"customer_number\").rderBy(\"customer_number\")\n",
    "df_unaffected_recs.orderBy(\"customer_number\").show(10, False)"
   ]
  },
  {
   "cell_type": "code",
   "execution_count": 21,
   "metadata": {},
   "outputs": [
    {
     "name": "stdout",
     "output_type": "stream",
     "text": [
      "+---------------+----------+---------+--------------+----------------+-------+-----+----------+--------------+------------+----------+\n",
      "|customer_number|first_name|last_name|middle_initial|address         |city   |state|zip_code  |eff_start_date|eff_end_date|is_current|\n",
      "+---------------+----------+---------+--------------+----------------+-------+-----+----------+--------------+------------+----------+\n",
      "|932574         |Lisa      |Cohen    |S             |69846 Mason Road|Atlanta|GA   |26584-3591|2020-08-25    |9999-12-31  |true      |\n",
      "+---------------+----------+---------+--------------+----------------+-------+-----+----------+--------------+------------+----------+\n",
      "\n"
     ]
    }
   ],
   "source": [
    "# ############## create new recs dataset ############## #\n",
    "hd_new_cust = \"\"\"\n",
    " SELECT   s.customer_number,\n",
    "          s.first_name,\n",
    "          s.last_name,\n",
    "          s.middle_initial,\n",
    "          s.address,\n",
    "          s.city,\n",
    "          s.state,\n",
    "          s.zip_code,\n",
    "          DATE(FROM_UTC_TIMESTAMP(CURRENT_TIMESTAMP, 'EST')) \n",
    "              AS eff_start_date,\n",
    "          DATE('9999-12-31') AS eff_end_date,\n",
    "          BOOLEAN(1) AS is_current\n",
    " FROM     customer_data s\n",
    "          LEFT OUTER JOIN current_scd2 t\n",
    "              ON t.customer_number = s.customer_number\n",
    " WHERE    t.customer_number IS NULL\n",
    "\"\"\"\n",
    "df_new_cust = spark.sql(hd_new_cust)\n",
    "#df_new_cust.coalesce(1).write.mode(\"overwrite\").parquet(v_s3_path + \"/new_cust/\")\n",
    "df_new_cust.createOrReplaceTempView(\"new_cust\")\n",
    "# ############## review dataset ############## #\n",
    "#df_new_cust = spark.read.parquet(v_s3_path + \"/new_cust/*\").orderBy(\"customer_number\")\n",
    "df_new_cust.orderBy(\"customer_number\").show(10, False)"
   ]
  },
  {
   "cell_type": "code",
   "execution_count": 24,
   "metadata": {},
   "outputs": [
    {
     "name": "stdout",
     "output_type": "stream",
     "text": [
      "4\n"
     ]
    }
   ],
   "source": [
    "v_max_key = spark.sql(\n",
    "    \"SELECT STRING(MAX(customer_dim_key)) FROM current_scd2\"\n",
    ").collect()[0][0]\n",
    "\n",
    "print(v_max_key)"
   ]
  },
  {
   "cell_type": "code",
   "execution_count": 25,
   "metadata": {},
   "outputs": [
    {
     "name": "stdout",
     "output_type": "stream",
     "text": [
      "+----------------+----------+---------+--------------+------------------+------------+-----+----------+---------------+--------------+------------+----------+\n",
      "|customer_dim_key|first_name|last_name|middle_initial|address           |city        |state|zip_code  |customer_number|eff_start_date|eff_end_date|is_current|\n",
      "+----------------+----------+---------+--------------+------------------+------------+-----+----------+---------------+--------------+------------+----------+\n",
      "|1               |John      |Smith    |G             |123 Main Street   |Springville |VT   |01234-5678|289374         |2014-01-01    |2020-08-24  |false     |\n",
      "|2               |Susan     |Jones    |L             |987 Central Avenue|Central City|MO   |49257-2657|862447         |2015-03-23    |2018-11-17  |false     |\n",
      "|3               |Susan     |Harris   |L             |987 Central Avenue|Central City|MO   |49257-2657|862447         |2018-11-18    |9999-12-31  |true      |\n",
      "|4               |William   |Chase    |X             |57895 Sharp Way   |Oldtown     |CA   |98554-1285|31568          |2018-12-07    |9999-12-31  |true      |\n",
      "|5               |Lisa      |Cohen    |S             |69846 Mason Road  |Atlanta     |GA   |26584-3591|932574         |2020-08-25    |9999-12-31  |true      |\n",
      "|6               |John      |Smith    |G             |456 Derry Court   |Springville |VT   |01234-5678|289374         |2020-08-25    |9999-12-31  |true      |\n",
      "+----------------+----------+---------+--------------+------------------+------------+-----+----------+---------------+--------------+------------+----------+\n",
      "\n"
     ]
    }
   ],
   "source": [
    "hd_new_scd2 = \"\"\"\n",
    " WITH a_cte\n",
    " AS   (\n",
    "        SELECT     x.first_name, x.last_name,\n",
    "                   x.middle_initial, x.address,\n",
    "                   x.city, x.state, x.zip_code,\n",
    "                   x.customer_number, x.eff_start_date,\n",
    "                   x.eff_end_date, x.is_current\n",
    "        FROM       new_cust x\n",
    "        UNION ALL\n",
    "        SELECT     y.first_name, y.last_name,\n",
    "                   y.middle_initial, y.address,\n",
    "                   y.city, y.state, y.zip_code,\n",
    "                   y.customer_number, y.eff_start_date,\n",
    "                   y.eff_end_date, y.is_current\n",
    "        FROM       new_curr_recs y\n",
    "      )\n",
    "  ,   b_cte\n",
    "  AS  (\n",
    "        SELECT  ROW_NUMBER() OVER(ORDER BY a.eff_start_date)\n",
    "                    + BIGINT('{v_max_key}') AS customer_dim_key,\n",
    "                a.first_name, a.last_name,\n",
    "                a.middle_initial, a.address,\n",
    "                a.city, a.state, a.zip_code,\n",
    "                a.customer_number, a.eff_start_date,\n",
    "                a.eff_end_date, a.is_current\n",
    "        FROM    a_cte a\n",
    "      )\n",
    "  SELECT  customer_dim_key, first_name, last_name,\n",
    "          middle_initial, address,\n",
    "          city, state, zip_code,\n",
    "          customer_number, eff_start_date,\n",
    "          eff_end_date, is_current\n",
    "  FROM    b_cte\n",
    "  UNION ALL\n",
    "  SELECT  customer_dim_key, first_name,  last_name,\n",
    "          middle_initial, address,\n",
    "          city, state, zip_code,\n",
    "          customer_number, eff_start_date,\n",
    "          eff_end_date, is_current\n",
    "  FROM    unaffected_recs\n",
    "  UNION ALL\n",
    "  SELECT  customer_dim_key, first_name,  last_name,\n",
    "          middle_initial, address,\n",
    "          city, state, zip_code,\n",
    "          customer_number, eff_start_date,\n",
    "          eff_end_date, is_current\n",
    "  FROM    new_hist_recs\n",
    "\"\"\"\n",
    "df_new_scd2 = spark.sql(hd_new_scd2.replace(\"{v_max_key}\", v_max_key))\n",
    "# ############## review dataset ############## #\n",
    "#df_new_scd2.coalesce(1).write.mode(\"overwrite\").parquet(v_s3_path + \"/new_scd2/\")\n",
    "#df_new_scd2 = spark.read.parquet(v_s3_path + \"/new_scd2/*\").orderBy(\"customer_dim_key\")\n",
    "df_new_scd2.orderBy(\"customer_dim_key\").show(10, False)"
   ]
  },
  {
   "cell_type": "code",
   "execution_count": null,
   "metadata": {},
   "outputs": [],
   "source": []
  }
 ],
 "metadata": {
  "kernelspec": {
   "display_name": "Python 3",
   "language": "python",
   "name": "python3"
  },
  "language_info": {
   "codemirror_mode": {
    "name": "ipython",
    "version": 3
   },
   "file_extension": ".py",
   "mimetype": "text/x-python",
   "name": "python",
   "nbconvert_exporter": "python",
   "pygments_lexer": "ipython3",
   "version": "3.8.4"
  }
 },
 "nbformat": 4,
 "nbformat_minor": 4
}
